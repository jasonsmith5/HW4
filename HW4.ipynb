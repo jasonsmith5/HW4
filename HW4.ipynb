{
 "cells": [
  {
   "cell_type": "code",
   "execution_count": 248,
   "metadata": {},
   "outputs": [],
   "source": [
    "%matplotlib inline\n",
    "import numpy as np\n",
    "import matplotlib.pyplot as plt\n",
    "import pandas as pd\n",
    "import sklearn\n",
    "from sklearn.linear_model import LogisticRegression\n",
    "from sklearn.model_selection import train_test_split\n",
    "from sklearn import metrics\n",
    "import seaborn as sns"
   ]
  },
  {
   "cell_type": "markdown",
   "metadata": {},
   "source": [
    "### Get the Raw Data."
   ]
  },
  {
   "cell_type": "code",
   "execution_count": 277,
   "metadata": {},
   "outputs": [
    {
     "name": "stderr",
     "output_type": "stream",
     "text": [
      "/Users/jasonsmith/opt/miniconda3/lib/python3.8/site-packages/IPython/core/interactiveshell.py:3071: DtypeWarning: Columns (33,34,42,43,49,73,75,76,89) have mixed types.Specify dtype option on import or set low_memory=False.\n",
      "  has_raised = await self.run_ast_nodes(code_ast.body, cell_name,\n"
     ]
    }
   ],
   "source": [
    "initial_df=pd.read_csv(\"LCD_Dataset.csv\")"
   ]
  },
  {
   "cell_type": "code",
   "execution_count": 279,
   "metadata": {},
   "outputs": [
    {
     "data": {
      "text/html": [
       "<div>\n",
       "<style scoped>\n",
       "    .dataframe tbody tr th:only-of-type {\n",
       "        vertical-align: middle;\n",
       "    }\n",
       "\n",
       "    .dataframe tbody tr th {\n",
       "        vertical-align: top;\n",
       "    }\n",
       "\n",
       "    .dataframe thead th {\n",
       "        text-align: right;\n",
       "    }\n",
       "</style>\n",
       "<table border=\"1\" class=\"dataframe\">\n",
       "  <thead>\n",
       "    <tr style=\"text-align: right;\">\n",
       "      <th></th>\n",
       "      <th>STATION</th>\n",
       "      <th>DATE</th>\n",
       "      <th>REPORT_TYPE</th>\n",
       "      <th>SOURCE</th>\n",
       "      <th>AWND</th>\n",
       "      <th>BackupDirection</th>\n",
       "      <th>BackupDistance</th>\n",
       "      <th>BackupDistanceUnit</th>\n",
       "      <th>BackupElements</th>\n",
       "      <th>BackupElevation</th>\n",
       "      <th>...</th>\n",
       "      <th>ShortDurationPrecipitationValue060</th>\n",
       "      <th>ShortDurationPrecipitationValue080</th>\n",
       "      <th>ShortDurationPrecipitationValue100</th>\n",
       "      <th>ShortDurationPrecipitationValue120</th>\n",
       "      <th>ShortDurationPrecipitationValue150</th>\n",
       "      <th>ShortDurationPrecipitationValue180</th>\n",
       "      <th>Sunrise</th>\n",
       "      <th>Sunset</th>\n",
       "      <th>TStorms</th>\n",
       "      <th>WindEquipmentChangeDate</th>\n",
       "    </tr>\n",
       "  </thead>\n",
       "  <tbody>\n",
       "    <tr>\n",
       "      <th>0</th>\n",
       "      <td>72681024131</td>\n",
       "      <td>2018-08-01T00:53:00</td>\n",
       "      <td>FM-15</td>\n",
       "      <td>7</td>\n",
       "      <td>NaN</td>\n",
       "      <td>E</td>\n",
       "      <td>1.5</td>\n",
       "      <td>mi</td>\n",
       "      <td>PRECIP</td>\n",
       "      <td>2856</td>\n",
       "      <td>...</td>\n",
       "      <td>NaN</td>\n",
       "      <td>NaN</td>\n",
       "      <td>NaN</td>\n",
       "      <td>NaN</td>\n",
       "      <td>NaN</td>\n",
       "      <td>NaN</td>\n",
       "      <td>NaN</td>\n",
       "      <td>NaN</td>\n",
       "      <td>NaN</td>\n",
       "      <td>1/7/07</td>\n",
       "    </tr>\n",
       "    <tr>\n",
       "      <th>1</th>\n",
       "      <td>72681024131</td>\n",
       "      <td>2018-08-01T01:53:00</td>\n",
       "      <td>FM-15</td>\n",
       "      <td>7</td>\n",
       "      <td>NaN</td>\n",
       "      <td>E</td>\n",
       "      <td>1.5</td>\n",
       "      <td>mi</td>\n",
       "      <td>PRECIP</td>\n",
       "      <td>2856</td>\n",
       "      <td>...</td>\n",
       "      <td>NaN</td>\n",
       "      <td>NaN</td>\n",
       "      <td>NaN</td>\n",
       "      <td>NaN</td>\n",
       "      <td>NaN</td>\n",
       "      <td>NaN</td>\n",
       "      <td>NaN</td>\n",
       "      <td>NaN</td>\n",
       "      <td>NaN</td>\n",
       "      <td>1/7/07</td>\n",
       "    </tr>\n",
       "    <tr>\n",
       "      <th>2</th>\n",
       "      <td>72681024131</td>\n",
       "      <td>2018-08-01T02:53:00</td>\n",
       "      <td>FM-15</td>\n",
       "      <td>7</td>\n",
       "      <td>NaN</td>\n",
       "      <td>E</td>\n",
       "      <td>1.5</td>\n",
       "      <td>mi</td>\n",
       "      <td>PRECIP</td>\n",
       "      <td>2856</td>\n",
       "      <td>...</td>\n",
       "      <td>NaN</td>\n",
       "      <td>NaN</td>\n",
       "      <td>NaN</td>\n",
       "      <td>NaN</td>\n",
       "      <td>NaN</td>\n",
       "      <td>NaN</td>\n",
       "      <td>NaN</td>\n",
       "      <td>NaN</td>\n",
       "      <td>NaN</td>\n",
       "      <td>1/7/07</td>\n",
       "    </tr>\n",
       "    <tr>\n",
       "      <th>3</th>\n",
       "      <td>72681024131</td>\n",
       "      <td>2018-08-01T03:53:00</td>\n",
       "      <td>FM-15</td>\n",
       "      <td>7</td>\n",
       "      <td>NaN</td>\n",
       "      <td>E</td>\n",
       "      <td>1.5</td>\n",
       "      <td>mi</td>\n",
       "      <td>PRECIP</td>\n",
       "      <td>2856</td>\n",
       "      <td>...</td>\n",
       "      <td>NaN</td>\n",
       "      <td>NaN</td>\n",
       "      <td>NaN</td>\n",
       "      <td>NaN</td>\n",
       "      <td>NaN</td>\n",
       "      <td>NaN</td>\n",
       "      <td>NaN</td>\n",
       "      <td>NaN</td>\n",
       "      <td>NaN</td>\n",
       "      <td>1/7/07</td>\n",
       "    </tr>\n",
       "    <tr>\n",
       "      <th>4</th>\n",
       "      <td>72681024131</td>\n",
       "      <td>2018-08-01T04:53:00</td>\n",
       "      <td>FM-15</td>\n",
       "      <td>7</td>\n",
       "      <td>NaN</td>\n",
       "      <td>E</td>\n",
       "      <td>1.5</td>\n",
       "      <td>mi</td>\n",
       "      <td>PRECIP</td>\n",
       "      <td>2856</td>\n",
       "      <td>...</td>\n",
       "      <td>NaN</td>\n",
       "      <td>NaN</td>\n",
       "      <td>NaN</td>\n",
       "      <td>NaN</td>\n",
       "      <td>NaN</td>\n",
       "      <td>NaN</td>\n",
       "      <td>NaN</td>\n",
       "      <td>NaN</td>\n",
       "      <td>NaN</td>\n",
       "      <td>1/7/07</td>\n",
       "    </tr>\n",
       "  </tbody>\n",
       "</table>\n",
       "<p>5 rows × 124 columns</p>\n",
       "</div>"
      ],
      "text/plain": [
       "       STATION                 DATE REPORT_TYPE  SOURCE  AWND BackupDirection  \\\n",
       "0  72681024131  2018-08-01T00:53:00       FM-15       7   NaN               E   \n",
       "1  72681024131  2018-08-01T01:53:00       FM-15       7   NaN               E   \n",
       "2  72681024131  2018-08-01T02:53:00       FM-15       7   NaN               E   \n",
       "3  72681024131  2018-08-01T03:53:00       FM-15       7   NaN               E   \n",
       "4  72681024131  2018-08-01T04:53:00       FM-15       7   NaN               E   \n",
       "\n",
       "   BackupDistance BackupDistanceUnit BackupElements  BackupElevation  ...  \\\n",
       "0             1.5                 mi         PRECIP             2856  ...   \n",
       "1             1.5                 mi         PRECIP             2856  ...   \n",
       "2             1.5                 mi         PRECIP             2856  ...   \n",
       "3             1.5                 mi         PRECIP             2856  ...   \n",
       "4             1.5                 mi         PRECIP             2856  ...   \n",
       "\n",
       "   ShortDurationPrecipitationValue060 ShortDurationPrecipitationValue080  \\\n",
       "0                                 NaN                                NaN   \n",
       "1                                 NaN                                NaN   \n",
       "2                                 NaN                                NaN   \n",
       "3                                 NaN                                NaN   \n",
       "4                                 NaN                                NaN   \n",
       "\n",
       "   ShortDurationPrecipitationValue100  ShortDurationPrecipitationValue120  \\\n",
       "0                                 NaN                                 NaN   \n",
       "1                                 NaN                                 NaN   \n",
       "2                                 NaN                                 NaN   \n",
       "3                                 NaN                                 NaN   \n",
       "4                                 NaN                                 NaN   \n",
       "\n",
       "  ShortDurationPrecipitationValue150  ShortDurationPrecipitationValue180  \\\n",
       "0                                NaN                                 NaN   \n",
       "1                                NaN                                 NaN   \n",
       "2                                NaN                                 NaN   \n",
       "3                                NaN                                 NaN   \n",
       "4                                NaN                                 NaN   \n",
       "\n",
       "   Sunrise  Sunset  TStorms  WindEquipmentChangeDate  \n",
       "0      NaN     NaN      NaN                   1/7/07  \n",
       "1      NaN     NaN      NaN                   1/7/07  \n",
       "2      NaN     NaN      NaN                   1/7/07  \n",
       "3      NaN     NaN      NaN                   1/7/07  \n",
       "4      NaN     NaN      NaN                   1/7/07  \n",
       "\n",
       "[5 rows x 124 columns]"
      ]
     },
     "execution_count": 279,
     "metadata": {},
     "output_type": "execute_result"
    }
   ],
   "source": [
    "initial_df.head()"
   ]
  },
  {
   "cell_type": "markdown",
   "metadata": {},
   "source": [
    "### Get Rid of All Unnecessary Columns and Rows\n",
    "\n",
    "First the colums."
   ]
  },
  {
   "cell_type": "code",
   "execution_count": 117,
   "metadata": {},
   "outputs": [],
   "source": [
    "all_col_names=set(initial_df.columns)\n",
    "useful_col_names=set([\n",
    " 'REPORT_TYPE',\n",
    " 'DailyAverageDryBulbTemperature',\n",
    " 'DailyAverageRelativeHumidity',\n",
    " 'DailyAverageStationPressure',\n",
    " 'DailyAverageWindSpeed',\n",
    " 'DailyMaximumDryBulbTemperature',\n",
    " 'DailyMinimumDryBulbTemperature',\n",
    " 'DailyPeakWindDirection',\n",
    " 'DailyPeakWindSpeed',\n",
    " 'DailyPrecipitation',\n",
    " 'DailySnowDepth',\n",
    " 'DailySnowfall',\n",
    " 'DailySustainedWindDirection',\n",
    " 'DailySustainedWindSpeed'])"
   ]
  },
  {
   "cell_type": "code",
   "execution_count": 211,
   "metadata": {},
   "outputs": [],
   "source": [
    "drop_col_names=all_col_names.difference(useful_col_names)\n",
    "#drop_col_names"
   ]
  },
  {
   "cell_type": "code",
   "execution_count": 212,
   "metadata": {},
   "outputs": [],
   "source": [
    "weather=initial_df.drop(list(drop_col_names), axis=1)"
   ]
  },
  {
   "cell_type": "code",
   "execution_count": 213,
   "metadata": {},
   "outputs": [
    {
     "data": {
      "text/html": [
       "<div>\n",
       "<style scoped>\n",
       "    .dataframe tbody tr th:only-of-type {\n",
       "        vertical-align: middle;\n",
       "    }\n",
       "\n",
       "    .dataframe tbody tr th {\n",
       "        vertical-align: top;\n",
       "    }\n",
       "\n",
       "    .dataframe thead th {\n",
       "        text-align: right;\n",
       "    }\n",
       "</style>\n",
       "<table border=\"1\" class=\"dataframe\">\n",
       "  <thead>\n",
       "    <tr style=\"text-align: right;\">\n",
       "      <th></th>\n",
       "      <th>REPORT_TYPE</th>\n",
       "      <th>DailyAverageDryBulbTemperature</th>\n",
       "      <th>DailyAverageRelativeHumidity</th>\n",
       "      <th>DailyAverageStationPressure</th>\n",
       "      <th>DailyAverageWindSpeed</th>\n",
       "      <th>DailyMaximumDryBulbTemperature</th>\n",
       "      <th>DailyMinimumDryBulbTemperature</th>\n",
       "      <th>DailyPeakWindDirection</th>\n",
       "      <th>DailyPeakWindSpeed</th>\n",
       "      <th>DailyPrecipitation</th>\n",
       "      <th>DailySnowDepth</th>\n",
       "      <th>DailySnowfall</th>\n",
       "      <th>DailySustainedWindDirection</th>\n",
       "      <th>DailySustainedWindSpeed</th>\n",
       "    </tr>\n",
       "  </thead>\n",
       "  <tbody>\n",
       "    <tr>\n",
       "      <th>0</th>\n",
       "      <td>FM-15</td>\n",
       "      <td>NaN</td>\n",
       "      <td>NaN</td>\n",
       "      <td>NaN</td>\n",
       "      <td>NaN</td>\n",
       "      <td>NaN</td>\n",
       "      <td>NaN</td>\n",
       "      <td>NaN</td>\n",
       "      <td>NaN</td>\n",
       "      <td>NaN</td>\n",
       "      <td>NaN</td>\n",
       "      <td>NaN</td>\n",
       "      <td>NaN</td>\n",
       "      <td>NaN</td>\n",
       "    </tr>\n",
       "    <tr>\n",
       "      <th>1</th>\n",
       "      <td>FM-15</td>\n",
       "      <td>NaN</td>\n",
       "      <td>NaN</td>\n",
       "      <td>NaN</td>\n",
       "      <td>NaN</td>\n",
       "      <td>NaN</td>\n",
       "      <td>NaN</td>\n",
       "      <td>NaN</td>\n",
       "      <td>NaN</td>\n",
       "      <td>NaN</td>\n",
       "      <td>NaN</td>\n",
       "      <td>NaN</td>\n",
       "      <td>NaN</td>\n",
       "      <td>NaN</td>\n",
       "    </tr>\n",
       "    <tr>\n",
       "      <th>2</th>\n",
       "      <td>FM-15</td>\n",
       "      <td>NaN</td>\n",
       "      <td>NaN</td>\n",
       "      <td>NaN</td>\n",
       "      <td>NaN</td>\n",
       "      <td>NaN</td>\n",
       "      <td>NaN</td>\n",
       "      <td>NaN</td>\n",
       "      <td>NaN</td>\n",
       "      <td>NaN</td>\n",
       "      <td>NaN</td>\n",
       "      <td>NaN</td>\n",
       "      <td>NaN</td>\n",
       "      <td>NaN</td>\n",
       "    </tr>\n",
       "    <tr>\n",
       "      <th>3</th>\n",
       "      <td>FM-15</td>\n",
       "      <td>NaN</td>\n",
       "      <td>NaN</td>\n",
       "      <td>NaN</td>\n",
       "      <td>NaN</td>\n",
       "      <td>NaN</td>\n",
       "      <td>NaN</td>\n",
       "      <td>NaN</td>\n",
       "      <td>NaN</td>\n",
       "      <td>NaN</td>\n",
       "      <td>NaN</td>\n",
       "      <td>NaN</td>\n",
       "      <td>NaN</td>\n",
       "      <td>NaN</td>\n",
       "    </tr>\n",
       "    <tr>\n",
       "      <th>4</th>\n",
       "      <td>FM-15</td>\n",
       "      <td>NaN</td>\n",
       "      <td>NaN</td>\n",
       "      <td>NaN</td>\n",
       "      <td>NaN</td>\n",
       "      <td>NaN</td>\n",
       "      <td>NaN</td>\n",
       "      <td>NaN</td>\n",
       "      <td>NaN</td>\n",
       "      <td>NaN</td>\n",
       "      <td>NaN</td>\n",
       "      <td>NaN</td>\n",
       "      <td>NaN</td>\n",
       "      <td>NaN</td>\n",
       "    </tr>\n",
       "  </tbody>\n",
       "</table>\n",
       "</div>"
      ],
      "text/plain": [
       "  REPORT_TYPE  DailyAverageDryBulbTemperature  DailyAverageRelativeHumidity  \\\n",
       "0       FM-15                             NaN                           NaN   \n",
       "1       FM-15                             NaN                           NaN   \n",
       "2       FM-15                             NaN                           NaN   \n",
       "3       FM-15                             NaN                           NaN   \n",
       "4       FM-15                             NaN                           NaN   \n",
       "\n",
       "   DailyAverageStationPressure  DailyAverageWindSpeed  \\\n",
       "0                          NaN                    NaN   \n",
       "1                          NaN                    NaN   \n",
       "2                          NaN                    NaN   \n",
       "3                          NaN                    NaN   \n",
       "4                          NaN                    NaN   \n",
       "\n",
       "   DailyMaximumDryBulbTemperature  DailyMinimumDryBulbTemperature  \\\n",
       "0                             NaN                             NaN   \n",
       "1                             NaN                             NaN   \n",
       "2                             NaN                             NaN   \n",
       "3                             NaN                             NaN   \n",
       "4                             NaN                             NaN   \n",
       "\n",
       "   DailyPeakWindDirection  DailyPeakWindSpeed DailyPrecipitation  \\\n",
       "0                     NaN                 NaN                NaN   \n",
       "1                     NaN                 NaN                NaN   \n",
       "2                     NaN                 NaN                NaN   \n",
       "3                     NaN                 NaN                NaN   \n",
       "4                     NaN                 NaN                NaN   \n",
       "\n",
       "  DailySnowDepth DailySnowfall  DailySustainedWindDirection  \\\n",
       "0            NaN           NaN                          NaN   \n",
       "1            NaN           NaN                          NaN   \n",
       "2            NaN           NaN                          NaN   \n",
       "3            NaN           NaN                          NaN   \n",
       "4            NaN           NaN                          NaN   \n",
       "\n",
       "   DailySustainedWindSpeed  \n",
       "0                      NaN  \n",
       "1                      NaN  \n",
       "2                      NaN  \n",
       "3                      NaN  \n",
       "4                      NaN  "
      ]
     },
     "execution_count": 213,
     "metadata": {},
     "output_type": "execute_result"
    }
   ],
   "source": [
    "weather.head()"
   ]
  },
  {
   "cell_type": "markdown",
   "metadata": {},
   "source": [
    "Now the rows."
   ]
  },
  {
   "cell_type": "code",
   "execution_count": 215,
   "metadata": {},
   "outputs": [],
   "source": [
    "weather=weather[weather[\"REPORT_TYPE\"]==\"SOD  \"]"
   ]
  },
  {
   "cell_type": "code",
   "execution_count": 216,
   "metadata": {},
   "outputs": [],
   "source": [
    "weather=weather.drop([\"REPORT_TYPE\"], axis = 1)"
   ]
  },
  {
   "cell_type": "code",
   "execution_count": 217,
   "metadata": {},
   "outputs": [],
   "source": [
    "weather=weather.reset_index()"
   ]
  },
  {
   "cell_type": "code",
   "execution_count": 218,
   "metadata": {},
   "outputs": [
    {
     "data": {
      "text/html": [
       "<div>\n",
       "<style scoped>\n",
       "    .dataframe tbody tr th:only-of-type {\n",
       "        vertical-align: middle;\n",
       "    }\n",
       "\n",
       "    .dataframe tbody tr th {\n",
       "        vertical-align: top;\n",
       "    }\n",
       "\n",
       "    .dataframe thead th {\n",
       "        text-align: right;\n",
       "    }\n",
       "</style>\n",
       "<table border=\"1\" class=\"dataframe\">\n",
       "  <thead>\n",
       "    <tr style=\"text-align: right;\">\n",
       "      <th></th>\n",
       "      <th>index</th>\n",
       "      <th>DailyAverageDryBulbTemperature</th>\n",
       "      <th>DailyAverageRelativeHumidity</th>\n",
       "      <th>DailyAverageStationPressure</th>\n",
       "      <th>DailyAverageWindSpeed</th>\n",
       "      <th>DailyMaximumDryBulbTemperature</th>\n",
       "      <th>DailyMinimumDryBulbTemperature</th>\n",
       "      <th>DailyPeakWindDirection</th>\n",
       "      <th>DailyPeakWindSpeed</th>\n",
       "      <th>DailyPrecipitation</th>\n",
       "      <th>DailySnowDepth</th>\n",
       "      <th>DailySnowfall</th>\n",
       "      <th>DailySustainedWindDirection</th>\n",
       "      <th>DailySustainedWindSpeed</th>\n",
       "    </tr>\n",
       "  </thead>\n",
       "  <tbody>\n",
       "    <tr>\n",
       "      <th>0</th>\n",
       "      <td>27</td>\n",
       "      <td>86.0</td>\n",
       "      <td>27.0</td>\n",
       "      <td>26.93</td>\n",
       "      <td>6.9</td>\n",
       "      <td>100.0</td>\n",
       "      <td>71.0</td>\n",
       "      <td>240.0</td>\n",
       "      <td>17.0</td>\n",
       "      <td>0</td>\n",
       "      <td>0</td>\n",
       "      <td>0</td>\n",
       "      <td>150.0</td>\n",
       "      <td>12.0</td>\n",
       "    </tr>\n",
       "    <tr>\n",
       "      <th>1</th>\n",
       "      <td>56</td>\n",
       "      <td>81.0</td>\n",
       "      <td>25.0</td>\n",
       "      <td>26.93</td>\n",
       "      <td>6.0</td>\n",
       "      <td>96.0</td>\n",
       "      <td>66.0</td>\n",
       "      <td>340.0</td>\n",
       "      <td>22.0</td>\n",
       "      <td>0</td>\n",
       "      <td>0</td>\n",
       "      <td>0</td>\n",
       "      <td>340.0</td>\n",
       "      <td>15.0</td>\n",
       "    </tr>\n",
       "    <tr>\n",
       "      <th>2</th>\n",
       "      <td>85</td>\n",
       "      <td>75.0</td>\n",
       "      <td>25.0</td>\n",
       "      <td>26.97</td>\n",
       "      <td>8.4</td>\n",
       "      <td>88.0</td>\n",
       "      <td>61.0</td>\n",
       "      <td>310.0</td>\n",
       "      <td>30.0</td>\n",
       "      <td>0</td>\n",
       "      <td>0</td>\n",
       "      <td>0</td>\n",
       "      <td>320.0</td>\n",
       "      <td>18.0</td>\n",
       "    </tr>\n",
       "    <tr>\n",
       "      <th>3</th>\n",
       "      <td>114</td>\n",
       "      <td>72.0</td>\n",
       "      <td>33.0</td>\n",
       "      <td>26.95</td>\n",
       "      <td>6.5</td>\n",
       "      <td>87.0</td>\n",
       "      <td>56.0</td>\n",
       "      <td>330.0</td>\n",
       "      <td>22.0</td>\n",
       "      <td>0</td>\n",
       "      <td>0</td>\n",
       "      <td>0</td>\n",
       "      <td>330.0</td>\n",
       "      <td>17.0</td>\n",
       "    </tr>\n",
       "    <tr>\n",
       "      <th>4</th>\n",
       "      <td>143</td>\n",
       "      <td>75.0</td>\n",
       "      <td>29.0</td>\n",
       "      <td>27.01</td>\n",
       "      <td>6.7</td>\n",
       "      <td>90.0</td>\n",
       "      <td>60.0</td>\n",
       "      <td>310.0</td>\n",
       "      <td>26.0</td>\n",
       "      <td>0</td>\n",
       "      <td>0</td>\n",
       "      <td>0</td>\n",
       "      <td>310.0</td>\n",
       "      <td>18.0</td>\n",
       "    </tr>\n",
       "  </tbody>\n",
       "</table>\n",
       "</div>"
      ],
      "text/plain": [
       "   index  DailyAverageDryBulbTemperature  DailyAverageRelativeHumidity  \\\n",
       "0     27                            86.0                          27.0   \n",
       "1     56                            81.0                          25.0   \n",
       "2     85                            75.0                          25.0   \n",
       "3    114                            72.0                          33.0   \n",
       "4    143                            75.0                          29.0   \n",
       "\n",
       "   DailyAverageStationPressure  DailyAverageWindSpeed  \\\n",
       "0                        26.93                    6.9   \n",
       "1                        26.93                    6.0   \n",
       "2                        26.97                    8.4   \n",
       "3                        26.95                    6.5   \n",
       "4                        27.01                    6.7   \n",
       "\n",
       "   DailyMaximumDryBulbTemperature  DailyMinimumDryBulbTemperature  \\\n",
       "0                           100.0                            71.0   \n",
       "1                            96.0                            66.0   \n",
       "2                            88.0                            61.0   \n",
       "3                            87.0                            56.0   \n",
       "4                            90.0                            60.0   \n",
       "\n",
       "   DailyPeakWindDirection  DailyPeakWindSpeed DailyPrecipitation  \\\n",
       "0                   240.0                17.0                  0   \n",
       "1                   340.0                22.0                  0   \n",
       "2                   310.0                30.0                  0   \n",
       "3                   330.0                22.0                  0   \n",
       "4                   310.0                26.0                  0   \n",
       "\n",
       "  DailySnowDepth DailySnowfall  DailySustainedWindDirection  \\\n",
       "0              0             0                        150.0   \n",
       "1              0             0                        340.0   \n",
       "2              0             0                        320.0   \n",
       "3              0             0                        330.0   \n",
       "4              0             0                        310.0   \n",
       "\n",
       "   DailySustainedWindSpeed  \n",
       "0                     12.0  \n",
       "1                     15.0  \n",
       "2                     18.0  \n",
       "3                     17.0  \n",
       "4                     18.0  "
      ]
     },
     "execution_count": 218,
     "metadata": {},
     "output_type": "execute_result"
    }
   ],
   "source": [
    "weather.head()"
   ]
  },
  {
   "cell_type": "code",
   "execution_count": 219,
   "metadata": {},
   "outputs": [],
   "source": [
    "weather=weather.drop([\"index\"], axis=1)"
   ]
  },
  {
   "cell_type": "code",
   "execution_count": 220,
   "metadata": {},
   "outputs": [
    {
     "data": {
      "text/html": [
       "<div>\n",
       "<style scoped>\n",
       "    .dataframe tbody tr th:only-of-type {\n",
       "        vertical-align: middle;\n",
       "    }\n",
       "\n",
       "    .dataframe tbody tr th {\n",
       "        vertical-align: top;\n",
       "    }\n",
       "\n",
       "    .dataframe thead th {\n",
       "        text-align: right;\n",
       "    }\n",
       "</style>\n",
       "<table border=\"1\" class=\"dataframe\">\n",
       "  <thead>\n",
       "    <tr style=\"text-align: right;\">\n",
       "      <th></th>\n",
       "      <th>DailyAverageDryBulbTemperature</th>\n",
       "      <th>DailyAverageRelativeHumidity</th>\n",
       "      <th>DailyAverageStationPressure</th>\n",
       "      <th>DailyAverageWindSpeed</th>\n",
       "      <th>DailyMaximumDryBulbTemperature</th>\n",
       "      <th>DailyMinimumDryBulbTemperature</th>\n",
       "      <th>DailyPeakWindDirection</th>\n",
       "      <th>DailyPeakWindSpeed</th>\n",
       "      <th>DailyPrecipitation</th>\n",
       "      <th>DailySnowDepth</th>\n",
       "      <th>DailySnowfall</th>\n",
       "      <th>DailySustainedWindDirection</th>\n",
       "      <th>DailySustainedWindSpeed</th>\n",
       "    </tr>\n",
       "  </thead>\n",
       "  <tbody>\n",
       "    <tr>\n",
       "      <th>0</th>\n",
       "      <td>86.0</td>\n",
       "      <td>27.0</td>\n",
       "      <td>26.93</td>\n",
       "      <td>6.9</td>\n",
       "      <td>100.0</td>\n",
       "      <td>71.0</td>\n",
       "      <td>240.0</td>\n",
       "      <td>17.0</td>\n",
       "      <td>0</td>\n",
       "      <td>0</td>\n",
       "      <td>0</td>\n",
       "      <td>150.0</td>\n",
       "      <td>12.0</td>\n",
       "    </tr>\n",
       "    <tr>\n",
       "      <th>1</th>\n",
       "      <td>81.0</td>\n",
       "      <td>25.0</td>\n",
       "      <td>26.93</td>\n",
       "      <td>6.0</td>\n",
       "      <td>96.0</td>\n",
       "      <td>66.0</td>\n",
       "      <td>340.0</td>\n",
       "      <td>22.0</td>\n",
       "      <td>0</td>\n",
       "      <td>0</td>\n",
       "      <td>0</td>\n",
       "      <td>340.0</td>\n",
       "      <td>15.0</td>\n",
       "    </tr>\n",
       "    <tr>\n",
       "      <th>2</th>\n",
       "      <td>75.0</td>\n",
       "      <td>25.0</td>\n",
       "      <td>26.97</td>\n",
       "      <td>8.4</td>\n",
       "      <td>88.0</td>\n",
       "      <td>61.0</td>\n",
       "      <td>310.0</td>\n",
       "      <td>30.0</td>\n",
       "      <td>0</td>\n",
       "      <td>0</td>\n",
       "      <td>0</td>\n",
       "      <td>320.0</td>\n",
       "      <td>18.0</td>\n",
       "    </tr>\n",
       "    <tr>\n",
       "      <th>3</th>\n",
       "      <td>72.0</td>\n",
       "      <td>33.0</td>\n",
       "      <td>26.95</td>\n",
       "      <td>6.5</td>\n",
       "      <td>87.0</td>\n",
       "      <td>56.0</td>\n",
       "      <td>330.0</td>\n",
       "      <td>22.0</td>\n",
       "      <td>0</td>\n",
       "      <td>0</td>\n",
       "      <td>0</td>\n",
       "      <td>330.0</td>\n",
       "      <td>17.0</td>\n",
       "    </tr>\n",
       "    <tr>\n",
       "      <th>4</th>\n",
       "      <td>75.0</td>\n",
       "      <td>29.0</td>\n",
       "      <td>27.01</td>\n",
       "      <td>6.7</td>\n",
       "      <td>90.0</td>\n",
       "      <td>60.0</td>\n",
       "      <td>310.0</td>\n",
       "      <td>26.0</td>\n",
       "      <td>0</td>\n",
       "      <td>0</td>\n",
       "      <td>0</td>\n",
       "      <td>310.0</td>\n",
       "      <td>18.0</td>\n",
       "    </tr>\n",
       "  </tbody>\n",
       "</table>\n",
       "</div>"
      ],
      "text/plain": [
       "   DailyAverageDryBulbTemperature  DailyAverageRelativeHumidity  \\\n",
       "0                            86.0                          27.0   \n",
       "1                            81.0                          25.0   \n",
       "2                            75.0                          25.0   \n",
       "3                            72.0                          33.0   \n",
       "4                            75.0                          29.0   \n",
       "\n",
       "   DailyAverageStationPressure  DailyAverageWindSpeed  \\\n",
       "0                        26.93                    6.9   \n",
       "1                        26.93                    6.0   \n",
       "2                        26.97                    8.4   \n",
       "3                        26.95                    6.5   \n",
       "4                        27.01                    6.7   \n",
       "\n",
       "   DailyMaximumDryBulbTemperature  DailyMinimumDryBulbTemperature  \\\n",
       "0                           100.0                            71.0   \n",
       "1                            96.0                            66.0   \n",
       "2                            88.0                            61.0   \n",
       "3                            87.0                            56.0   \n",
       "4                            90.0                            60.0   \n",
       "\n",
       "   DailyPeakWindDirection  DailyPeakWindSpeed DailyPrecipitation  \\\n",
       "0                   240.0                17.0                  0   \n",
       "1                   340.0                22.0                  0   \n",
       "2                   310.0                30.0                  0   \n",
       "3                   330.0                22.0                  0   \n",
       "4                   310.0                26.0                  0   \n",
       "\n",
       "  DailySnowDepth DailySnowfall  DailySustainedWindDirection  \\\n",
       "0              0             0                        150.0   \n",
       "1              0             0                        340.0   \n",
       "2              0             0                        320.0   \n",
       "3              0             0                        330.0   \n",
       "4              0             0                        310.0   \n",
       "\n",
       "   DailySustainedWindSpeed  \n",
       "0                     12.0  \n",
       "1                     15.0  \n",
       "2                     18.0  \n",
       "3                     17.0  \n",
       "4                     18.0  "
      ]
     },
     "execution_count": 220,
     "metadata": {},
     "output_type": "execute_result"
    }
   ],
   "source": [
    "weather.head()"
   ]
  },
  {
   "cell_type": "markdown",
   "metadata": {},
   "source": [
    "Now change the column names."
   ]
  },
  {
   "cell_type": "code",
   "execution_count": 221,
   "metadata": {},
   "outputs": [
    {
     "data": {
      "text/plain": [
       "['DailyPeakWindDirection',\n",
       " 'DailyAverageStationPressure',\n",
       " 'DailySustainedWindDirection',\n",
       " 'DailyMinimumDryBulbTemperature',\n",
       " 'DailySnowfall',\n",
       " 'DailyAverageWindSpeed',\n",
       " 'DailyAverageDryBulbTemperature',\n",
       " 'REPORT_TYPE',\n",
       " 'DailyPrecipitation',\n",
       " 'DailySnowDepth',\n",
       " 'DailySustainedWindSpeed',\n",
       " 'DailyMaximumDryBulbTemperature',\n",
       " 'DailyAverageRelativeHumidity',\n",
       " 'DailyPeakWindSpeed']"
      ]
     },
     "execution_count": 221,
     "metadata": {},
     "output_type": "execute_result"
    }
   ],
   "source": [
    "list(useful_col_names)"
   ]
  },
  {
   "cell_type": "code",
   "execution_count": 222,
   "metadata": {},
   "outputs": [],
   "source": [
    "weather=weather.rename(columns={'DailySnowfall':\"snowFall\", 'DailyAverageWindSpeed':'WindSpd','DailyPeakWindDirection': 'PeakWindDir', 'DailyAverageStationPressure':'Pressure', 'DailyAverageRelativeHumidity':'Humidity', 'DailyAverageDryBulbTemperature':'DryBulbTemp', 'DailyMinimumDryBulbTemperature':'MinDryBulbTemp',  'DailyPeakWindSpeed': 'PeakWindSpeed', 'DailyPrecipitation':'Precip', 'DailyMaximumDryBulbTemperature':'MaxDryBulbTemp', 'DailySnowDepth':'SnowDepth', 'DailySustainedWindDirection':'SustainedWindDir', 'DailySustainedWindSpeed':'SustainedWindSpeed'})"
   ]
  },
  {
   "cell_type": "code",
   "execution_count": 223,
   "metadata": {},
   "outputs": [
    {
     "data": {
      "text/html": [
       "<div>\n",
       "<style scoped>\n",
       "    .dataframe tbody tr th:only-of-type {\n",
       "        vertical-align: middle;\n",
       "    }\n",
       "\n",
       "    .dataframe tbody tr th {\n",
       "        vertical-align: top;\n",
       "    }\n",
       "\n",
       "    .dataframe thead th {\n",
       "        text-align: right;\n",
       "    }\n",
       "</style>\n",
       "<table border=\"1\" class=\"dataframe\">\n",
       "  <thead>\n",
       "    <tr style=\"text-align: right;\">\n",
       "      <th></th>\n",
       "      <th>DryBulbTemp</th>\n",
       "      <th>Humidity</th>\n",
       "      <th>Pressure</th>\n",
       "      <th>WindSpd</th>\n",
       "      <th>MaxDryBulbTemp</th>\n",
       "      <th>MinDryBulbTemp</th>\n",
       "      <th>PeakWindDir</th>\n",
       "      <th>PeakWindSpeed</th>\n",
       "      <th>Precip</th>\n",
       "      <th>SnowDepth</th>\n",
       "      <th>snowFall</th>\n",
       "      <th>SustainedWindDir</th>\n",
       "      <th>SustainedWindSpeed</th>\n",
       "    </tr>\n",
       "  </thead>\n",
       "  <tbody>\n",
       "    <tr>\n",
       "      <th>0</th>\n",
       "      <td>86.0</td>\n",
       "      <td>27.0</td>\n",
       "      <td>26.93</td>\n",
       "      <td>6.9</td>\n",
       "      <td>100.0</td>\n",
       "      <td>71.0</td>\n",
       "      <td>240.0</td>\n",
       "      <td>17.0</td>\n",
       "      <td>0</td>\n",
       "      <td>0</td>\n",
       "      <td>0</td>\n",
       "      <td>150.0</td>\n",
       "      <td>12.0</td>\n",
       "    </tr>\n",
       "    <tr>\n",
       "      <th>1</th>\n",
       "      <td>81.0</td>\n",
       "      <td>25.0</td>\n",
       "      <td>26.93</td>\n",
       "      <td>6.0</td>\n",
       "      <td>96.0</td>\n",
       "      <td>66.0</td>\n",
       "      <td>340.0</td>\n",
       "      <td>22.0</td>\n",
       "      <td>0</td>\n",
       "      <td>0</td>\n",
       "      <td>0</td>\n",
       "      <td>340.0</td>\n",
       "      <td>15.0</td>\n",
       "    </tr>\n",
       "    <tr>\n",
       "      <th>2</th>\n",
       "      <td>75.0</td>\n",
       "      <td>25.0</td>\n",
       "      <td>26.97</td>\n",
       "      <td>8.4</td>\n",
       "      <td>88.0</td>\n",
       "      <td>61.0</td>\n",
       "      <td>310.0</td>\n",
       "      <td>30.0</td>\n",
       "      <td>0</td>\n",
       "      <td>0</td>\n",
       "      <td>0</td>\n",
       "      <td>320.0</td>\n",
       "      <td>18.0</td>\n",
       "    </tr>\n",
       "    <tr>\n",
       "      <th>3</th>\n",
       "      <td>72.0</td>\n",
       "      <td>33.0</td>\n",
       "      <td>26.95</td>\n",
       "      <td>6.5</td>\n",
       "      <td>87.0</td>\n",
       "      <td>56.0</td>\n",
       "      <td>330.0</td>\n",
       "      <td>22.0</td>\n",
       "      <td>0</td>\n",
       "      <td>0</td>\n",
       "      <td>0</td>\n",
       "      <td>330.0</td>\n",
       "      <td>17.0</td>\n",
       "    </tr>\n",
       "    <tr>\n",
       "      <th>4</th>\n",
       "      <td>75.0</td>\n",
       "      <td>29.0</td>\n",
       "      <td>27.01</td>\n",
       "      <td>6.7</td>\n",
       "      <td>90.0</td>\n",
       "      <td>60.0</td>\n",
       "      <td>310.0</td>\n",
       "      <td>26.0</td>\n",
       "      <td>0</td>\n",
       "      <td>0</td>\n",
       "      <td>0</td>\n",
       "      <td>310.0</td>\n",
       "      <td>18.0</td>\n",
       "    </tr>\n",
       "  </tbody>\n",
       "</table>\n",
       "</div>"
      ],
      "text/plain": [
       "   DryBulbTemp  Humidity  Pressure  WindSpd  MaxDryBulbTemp  MinDryBulbTemp  \\\n",
       "0         86.0      27.0     26.93      6.9           100.0            71.0   \n",
       "1         81.0      25.0     26.93      6.0            96.0            66.0   \n",
       "2         75.0      25.0     26.97      8.4            88.0            61.0   \n",
       "3         72.0      33.0     26.95      6.5            87.0            56.0   \n",
       "4         75.0      29.0     27.01      6.7            90.0            60.0   \n",
       "\n",
       "   PeakWindDir  PeakWindSpeed Precip SnowDepth snowFall  SustainedWindDir  \\\n",
       "0        240.0           17.0      0         0        0             150.0   \n",
       "1        340.0           22.0      0         0        0             340.0   \n",
       "2        310.0           30.0      0         0        0             320.0   \n",
       "3        330.0           22.0      0         0        0             330.0   \n",
       "4        310.0           26.0      0         0        0             310.0   \n",
       "\n",
       "   SustainedWindSpeed  \n",
       "0                12.0  \n",
       "1                15.0  \n",
       "2                18.0  \n",
       "3                17.0  \n",
       "4                18.0  "
      ]
     },
     "execution_count": 223,
     "metadata": {},
     "output_type": "execute_result"
    }
   ],
   "source": [
    "weather.head()"
   ]
  },
  {
   "cell_type": "markdown",
   "metadata": {},
   "source": [
    "### Deal With NaN Values"
   ]
  },
  {
   "cell_type": "code",
   "execution_count": 224,
   "metadata": {},
   "outputs": [
    {
     "data": {
      "text/plain": [
       "(1097, 13)"
      ]
     },
     "execution_count": 224,
     "metadata": {},
     "output_type": "execute_result"
    }
   ],
   "source": [
    "weather.shape"
   ]
  },
  {
   "cell_type": "markdown",
   "metadata": {},
   "source": [
    "Luckily there are just a few NaNs."
   ]
  },
  {
   "cell_type": "code",
   "execution_count": 225,
   "metadata": {},
   "outputs": [
    {
     "data": {
      "text/plain": [
       "DryBulbTemp           1097\n",
       "Humidity              1094\n",
       "Pressure              1095\n",
       "WindSpd               1097\n",
       "MaxDryBulbTemp        1097\n",
       "MinDryBulbTemp        1097\n",
       "PeakWindDir           1097\n",
       "PeakWindSpeed         1097\n",
       "Precip                1097\n",
       "SnowDepth             1097\n",
       "snowFall              1097\n",
       "SustainedWindDir      1097\n",
       "SustainedWindSpeed    1097\n",
       "dtype: int64"
      ]
     },
     "execution_count": 225,
     "metadata": {},
     "output_type": "execute_result"
    }
   ],
   "source": [
    "weather.count()"
   ]
  },
  {
   "cell_type": "code",
   "execution_count": 226,
   "metadata": {},
   "outputs": [
    {
     "data": {
      "text/html": [
       "<div>\n",
       "<style scoped>\n",
       "    .dataframe tbody tr th:only-of-type {\n",
       "        vertical-align: middle;\n",
       "    }\n",
       "\n",
       "    .dataframe tbody tr th {\n",
       "        vertical-align: top;\n",
       "    }\n",
       "\n",
       "    .dataframe thead th {\n",
       "        text-align: right;\n",
       "    }\n",
       "</style>\n",
       "<table border=\"1\" class=\"dataframe\">\n",
       "  <thead>\n",
       "    <tr style=\"text-align: right;\">\n",
       "      <th></th>\n",
       "      <th>DryBulbTemp</th>\n",
       "      <th>Humidity</th>\n",
       "      <th>Pressure</th>\n",
       "      <th>WindSpd</th>\n",
       "      <th>MaxDryBulbTemp</th>\n",
       "      <th>MinDryBulbTemp</th>\n",
       "      <th>PeakWindDir</th>\n",
       "      <th>PeakWindSpeed</th>\n",
       "      <th>Precip</th>\n",
       "      <th>SnowDepth</th>\n",
       "      <th>snowFall</th>\n",
       "      <th>SustainedWindDir</th>\n",
       "      <th>SustainedWindSpeed</th>\n",
       "    </tr>\n",
       "  </thead>\n",
       "  <tbody>\n",
       "    <tr>\n",
       "      <th>139</th>\n",
       "      <td>42.0</td>\n",
       "      <td>NaN</td>\n",
       "      <td>NaN</td>\n",
       "      <td>7.8</td>\n",
       "      <td>45.0</td>\n",
       "      <td>38.0</td>\n",
       "      <td>120.0</td>\n",
       "      <td>30.0</td>\n",
       "      <td>0.15</td>\n",
       "      <td>0</td>\n",
       "      <td>0</td>\n",
       "      <td>110.0</td>\n",
       "      <td>24.0</td>\n",
       "    </tr>\n",
       "    <tr>\n",
       "      <th>469</th>\n",
       "      <td>44.0</td>\n",
       "      <td>NaN</td>\n",
       "      <td>NaN</td>\n",
       "      <td>3.2</td>\n",
       "      <td>56.0</td>\n",
       "      <td>32.0</td>\n",
       "      <td>120.0</td>\n",
       "      <td>11.0</td>\n",
       "      <td>0</td>\n",
       "      <td>0</td>\n",
       "      <td>0</td>\n",
       "      <td>120.0</td>\n",
       "      <td>9.0</td>\n",
       "    </tr>\n",
       "    <tr>\n",
       "      <th>1096</th>\n",
       "      <td>76.0</td>\n",
       "      <td>NaN</td>\n",
       "      <td>27.15</td>\n",
       "      <td>4.3</td>\n",
       "      <td>82.0</td>\n",
       "      <td>69.0</td>\n",
       "      <td>310.0</td>\n",
       "      <td>15.0</td>\n",
       "      <td>0.14</td>\n",
       "      <td>0</td>\n",
       "      <td>0</td>\n",
       "      <td>170.0</td>\n",
       "      <td>12.0</td>\n",
       "    </tr>\n",
       "  </tbody>\n",
       "</table>\n",
       "</div>"
      ],
      "text/plain": [
       "      DryBulbTemp  Humidity  Pressure  WindSpd  MaxDryBulbTemp  \\\n",
       "139          42.0       NaN       NaN      7.8            45.0   \n",
       "469          44.0       NaN       NaN      3.2            56.0   \n",
       "1096         76.0       NaN     27.15      4.3            82.0   \n",
       "\n",
       "      MinDryBulbTemp  PeakWindDir  PeakWindSpeed Precip SnowDepth snowFall  \\\n",
       "139             38.0        120.0           30.0   0.15         0        0   \n",
       "469             32.0        120.0           11.0      0         0        0   \n",
       "1096            69.0        310.0           15.0   0.14         0        0   \n",
       "\n",
       "      SustainedWindDir  SustainedWindSpeed  \n",
       "139              110.0                24.0  \n",
       "469              120.0                 9.0  \n",
       "1096             170.0                12.0  "
      ]
     },
     "execution_count": 226,
     "metadata": {},
     "output_type": "execute_result"
    }
   ],
   "source": [
    "weather[weather[\"Pressure\"].isna() | weather[\"Humidity\"].isna()]"
   ]
  },
  {
   "cell_type": "markdown",
   "metadata": {},
   "source": [
    "Since no pressure value, I dropped rows $139$ and $469$."
   ]
  },
  {
   "cell_type": "code",
   "execution_count": 227,
   "metadata": {},
   "outputs": [],
   "source": [
    "weather=weather.drop([139,469])"
   ]
  },
  {
   "cell_type": "markdown",
   "metadata": {},
   "source": [
    "Getting closer to removing all NaNs."
   ]
  },
  {
   "cell_type": "code",
   "execution_count": 228,
   "metadata": {},
   "outputs": [
    {
     "data": {
      "text/plain": [
       "DryBulbTemp           1095\n",
       "Humidity              1094\n",
       "Pressure              1095\n",
       "WindSpd               1095\n",
       "MaxDryBulbTemp        1095\n",
       "MinDryBulbTemp        1095\n",
       "PeakWindDir           1095\n",
       "PeakWindSpeed         1095\n",
       "Precip                1095\n",
       "SnowDepth             1095\n",
       "snowFall              1095\n",
       "SustainedWindDir      1095\n",
       "SustainedWindSpeed    1095\n",
       "dtype: int64"
      ]
     },
     "execution_count": 228,
     "metadata": {},
     "output_type": "execute_result"
    }
   ],
   "source": [
    "weather.count()"
   ]
  },
  {
   "cell_type": "markdown",
   "metadata": {},
   "source": [
    "Since we have the other important values, I chose to replace the one remaining NaN with 0."
   ]
  },
  {
   "cell_type": "code",
   "execution_count": 230,
   "metadata": {},
   "outputs": [],
   "source": [
    "weather[\"Humidity\"].fillna(0, inplace=True)"
   ]
  },
  {
   "cell_type": "markdown",
   "metadata": {},
   "source": [
    "No more NaNs."
   ]
  },
  {
   "cell_type": "code",
   "execution_count": 231,
   "metadata": {},
   "outputs": [
    {
     "data": {
      "text/plain": [
       "DryBulbTemp           1095\n",
       "Humidity              1095\n",
       "Pressure              1095\n",
       "WindSpd               1095\n",
       "MaxDryBulbTemp        1095\n",
       "MinDryBulbTemp        1095\n",
       "PeakWindDir           1095\n",
       "PeakWindSpeed         1095\n",
       "Precip                1095\n",
       "SnowDepth             1095\n",
       "snowFall              1095\n",
       "SustainedWindDir      1095\n",
       "SustainedWindSpeed    1095\n",
       "dtype: int64"
      ]
     },
     "execution_count": 231,
     "metadata": {},
     "output_type": "execute_result"
    }
   ],
   "source": [
    "weather.count()"
   ]
  },
  {
   "cell_type": "code",
   "execution_count": 232,
   "metadata": {},
   "outputs": [
    {
     "data": {
      "text/html": [
       "<div>\n",
       "<style scoped>\n",
       "    .dataframe tbody tr th:only-of-type {\n",
       "        vertical-align: middle;\n",
       "    }\n",
       "\n",
       "    .dataframe tbody tr th {\n",
       "        vertical-align: top;\n",
       "    }\n",
       "\n",
       "    .dataframe thead th {\n",
       "        text-align: right;\n",
       "    }\n",
       "</style>\n",
       "<table border=\"1\" class=\"dataframe\">\n",
       "  <thead>\n",
       "    <tr style=\"text-align: right;\">\n",
       "      <th></th>\n",
       "      <th>DryBulbTemp</th>\n",
       "      <th>Humidity</th>\n",
       "      <th>Pressure</th>\n",
       "      <th>WindSpd</th>\n",
       "      <th>MaxDryBulbTemp</th>\n",
       "      <th>MinDryBulbTemp</th>\n",
       "      <th>PeakWindDir</th>\n",
       "      <th>PeakWindSpeed</th>\n",
       "      <th>Precip</th>\n",
       "      <th>SnowDepth</th>\n",
       "      <th>snowFall</th>\n",
       "      <th>SustainedWindDir</th>\n",
       "      <th>SustainedWindSpeed</th>\n",
       "    </tr>\n",
       "  </thead>\n",
       "  <tbody>\n",
       "    <tr>\n",
       "      <th>0</th>\n",
       "      <td>86.0</td>\n",
       "      <td>27.0</td>\n",
       "      <td>26.93</td>\n",
       "      <td>6.9</td>\n",
       "      <td>100.0</td>\n",
       "      <td>71.0</td>\n",
       "      <td>240.0</td>\n",
       "      <td>17.0</td>\n",
       "      <td>0</td>\n",
       "      <td>0</td>\n",
       "      <td>0</td>\n",
       "      <td>150.0</td>\n",
       "      <td>12.0</td>\n",
       "    </tr>\n",
       "    <tr>\n",
       "      <th>1</th>\n",
       "      <td>81.0</td>\n",
       "      <td>25.0</td>\n",
       "      <td>26.93</td>\n",
       "      <td>6.0</td>\n",
       "      <td>96.0</td>\n",
       "      <td>66.0</td>\n",
       "      <td>340.0</td>\n",
       "      <td>22.0</td>\n",
       "      <td>0</td>\n",
       "      <td>0</td>\n",
       "      <td>0</td>\n",
       "      <td>340.0</td>\n",
       "      <td>15.0</td>\n",
       "    </tr>\n",
       "    <tr>\n",
       "      <th>2</th>\n",
       "      <td>75.0</td>\n",
       "      <td>25.0</td>\n",
       "      <td>26.97</td>\n",
       "      <td>8.4</td>\n",
       "      <td>88.0</td>\n",
       "      <td>61.0</td>\n",
       "      <td>310.0</td>\n",
       "      <td>30.0</td>\n",
       "      <td>0</td>\n",
       "      <td>0</td>\n",
       "      <td>0</td>\n",
       "      <td>320.0</td>\n",
       "      <td>18.0</td>\n",
       "    </tr>\n",
       "    <tr>\n",
       "      <th>3</th>\n",
       "      <td>72.0</td>\n",
       "      <td>33.0</td>\n",
       "      <td>26.95</td>\n",
       "      <td>6.5</td>\n",
       "      <td>87.0</td>\n",
       "      <td>56.0</td>\n",
       "      <td>330.0</td>\n",
       "      <td>22.0</td>\n",
       "      <td>0</td>\n",
       "      <td>0</td>\n",
       "      <td>0</td>\n",
       "      <td>330.0</td>\n",
       "      <td>17.0</td>\n",
       "    </tr>\n",
       "    <tr>\n",
       "      <th>4</th>\n",
       "      <td>75.0</td>\n",
       "      <td>29.0</td>\n",
       "      <td>27.01</td>\n",
       "      <td>6.7</td>\n",
       "      <td>90.0</td>\n",
       "      <td>60.0</td>\n",
       "      <td>310.0</td>\n",
       "      <td>26.0</td>\n",
       "      <td>0</td>\n",
       "      <td>0</td>\n",
       "      <td>0</td>\n",
       "      <td>310.0</td>\n",
       "      <td>18.0</td>\n",
       "    </tr>\n",
       "  </tbody>\n",
       "</table>\n",
       "</div>"
      ],
      "text/plain": [
       "   DryBulbTemp  Humidity  Pressure  WindSpd  MaxDryBulbTemp  MinDryBulbTemp  \\\n",
       "0         86.0      27.0     26.93      6.9           100.0            71.0   \n",
       "1         81.0      25.0     26.93      6.0            96.0            66.0   \n",
       "2         75.0      25.0     26.97      8.4            88.0            61.0   \n",
       "3         72.0      33.0     26.95      6.5            87.0            56.0   \n",
       "4         75.0      29.0     27.01      6.7            90.0            60.0   \n",
       "\n",
       "   PeakWindDir  PeakWindSpeed Precip SnowDepth snowFall  SustainedWindDir  \\\n",
       "0        240.0           17.0      0         0        0             150.0   \n",
       "1        340.0           22.0      0         0        0             340.0   \n",
       "2        310.0           30.0      0         0        0             320.0   \n",
       "3        330.0           22.0      0         0        0             330.0   \n",
       "4        310.0           26.0      0         0        0             310.0   \n",
       "\n",
       "   SustainedWindSpeed  \n",
       "0                12.0  \n",
       "1                15.0  \n",
       "2                18.0  \n",
       "3                17.0  \n",
       "4                18.0  "
      ]
     },
     "execution_count": 232,
     "metadata": {},
     "output_type": "execute_result"
    }
   ],
   "source": [
    "weather.head()"
   ]
  },
  {
   "cell_type": "markdown",
   "metadata": {},
   "source": [
    "### Create Label Column"
   ]
  },
  {
   "cell_type": "code",
   "execution_count": 235,
   "metadata": {},
   "outputs": [],
   "source": [
    "weather[\"Rained\"]=\"0\""
   ]
  },
  {
   "cell_type": "code",
   "execution_count": 236,
   "metadata": {},
   "outputs": [],
   "source": [
    "def change(string):\n",
    "    if string=='0':\n",
    "        return 0\n",
    "    else:\n",
    "        return 1"
   ]
  },
  {
   "cell_type": "code",
   "execution_count": 237,
   "metadata": {},
   "outputs": [],
   "source": [
    "weather[\"Rained\"]=weather.Precip.apply(lambda x: change(x))"
   ]
  },
  {
   "cell_type": "markdown",
   "metadata": {},
   "source": [
    "#### An Unforseen Problem\n",
    "\n",
    "I had significant trouble using code that I have used before, and used successfully on a smaller example, to create my label column.  After many attempts I settled on the solution above.  I originally thought the issue was that the Precip column is of string type.  However, after I got it to work, I noticed that some of my precipitation values were a \"T\".  Due to time constraints I chose to drop all rows that have a Precip value of \"T.    "
   ]
  },
  {
   "cell_type": "code",
   "execution_count": 243,
   "metadata": {},
   "outputs": [],
   "source": [
    "weather=weather[weather[\"Precip\"]!=\"T\"]"
   ]
  },
  {
   "cell_type": "markdown",
   "metadata": {},
   "source": [
    "### Train the Model"
   ]
  },
  {
   "cell_type": "code",
   "execution_count": 250,
   "metadata": {},
   "outputs": [
    {
     "data": {
      "image/png": "[encoded data removed]",
      "text/plain": [
       "<Figure size 432x288 with 1 Axes>"
      ]
     },
     "metadata": {
      "needs_background": "light"
     },
     "output_type": "display_data"
    }
   ],
   "source": [
    "ax = sns.countplot(x=\"Rained\", data=weather)"
   ]
  },
  {
   "cell_type": "code",
   "execution_count": 260,
   "metadata": {},
   "outputs": [],
   "source": [
    "feature_columns=list(weather.columns)"
   ]
  },
  {
   "cell_type": "code",
   "execution_count": 262,
   "metadata": {},
   "outputs": [],
   "source": [
    "feature_columns.remove(\"Rained\")"
   ]
  },
  {
   "cell_type": "code",
   "execution_count": 263,
   "metadata": {},
   "outputs": [
    {
     "data": {
      "text/plain": [
       "['DryBulbTemp',\n",
       " 'Humidity',\n",
       " 'Pressure',\n",
       " 'WindSpd',\n",
       " 'MaxDryBulbTemp',\n",
       " 'MinDryBulbTemp',\n",
       " 'PeakWindDir',\n",
       " 'PeakWindSpeed',\n",
       " 'Precip',\n",
       " 'SnowDepth',\n",
       " 'snowFall',\n",
       " 'SustainedWindDir',\n",
       " 'SustainedWindSpeed']"
      ]
     },
     "execution_count": 263,
     "metadata": {},
     "output_type": "execute_result"
    }
   ],
   "source": [
    "feature_columns"
   ]
  },
  {
   "cell_type": "code",
   "execution_count": 272,
   "metadata": {},
   "outputs": [],
   "source": [
    "X=weather[feature_columns]\n",
    "y=weather.Rained"
   ]
  },
  {
   "cell_type": "code",
   "execution_count": 273,
   "metadata": {},
   "outputs": [],
   "source": [
    "X_train,X_test,y_train,y_test=train_test_split(X, y, test_size=0.25, random_state=25)"
   ]
  },
  {
   "cell_type": "code",
   "execution_count": null,
   "metadata": {},
   "outputs": [],
   "source": []
  },
  {
   "cell_type": "markdown",
   "metadata": {},
   "source": [
    "#### The T Problem Returns\n",
    "\n",
    "After trying to fit the model, I realized there were more \"T\"s in my data.  This is a problem I will address for HW5."
   ]
  },
  {
   "cell_type": "code",
   "execution_count": 274,
   "metadata": {},
   "outputs": [],
   "source": [
    "weather=weather.replace(\"T\",0)"
   ]
  },
  {
   "cell_type": "code",
   "execution_count": 275,
   "metadata": {},
   "outputs": [],
   "source": [
    "model=LogisticRegression(max_iter=5000)\n",
    "\n",
    "model.fit(X_train,y_train)\n",
    "\n",
    "y_pred = model.predict(X_test)"
   ]
  },
  {
   "cell_type": "markdown",
   "metadata": {},
   "source": [
    "### Accuracy"
   ]
  },
  {
   "cell_type": "code",
   "execution_count": 283,
   "metadata": {},
   "outputs": [
    {
     "data": {
      "text/plain": [
       "0.8941176470588236"
      ]
     },
     "execution_count": 283,
     "metadata": {},
     "output_type": "execute_result"
    }
   ],
   "source": [
    "(y_pred==y_test).sum()/len(y_test)"
   ]
  },
  {
   "cell_type": "markdown",
   "metadata": {},
   "source": [
    "Since the average number of rainy days for a year in Boise is $90$, a wild guess would produce an accuracy of $0.75$.  \n",
    "So, my model did better than a wild guess."
   ]
  },
  {
   "cell_type": "code",
   "execution_count": null,
   "metadata": {},
   "outputs": [],
   "source": []
  }
 ],
 "metadata": {
  "kernelspec": {
   "display_name": "Python 3",
   "language": "python",
   "name": "python3"
  },
  "language_info": {
   "codemirror_mode": {
    "name": "ipython",
    "version": 3
   },
   "file_extension": ".py",
   "mimetype": "text/x-python",
   "name": "python",
   "nbconvert_exporter": "python",
   "pygments_lexer": "ipython3",
   "version": "3.8.3"
  }
 },
 "nbformat": 4,
 "nbformat_minor": 4
}
